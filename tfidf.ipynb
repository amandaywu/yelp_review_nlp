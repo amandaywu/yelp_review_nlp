{
 "cells": [
  {
   "cell_type": "code",
   "execution_count": null,
   "metadata": {
    "colab": {
     "base_uri": "https://localhost:8080/",
     "height": 34
    },
    "colab_type": "code",
    "id": "YlVv0pKAxWnx",
    "outputId": "fe43db91-3b85-41d8-c2cc-5b91c9291773"
   },
   "outputs": [],
   "source": [
    "import pandas as pd\n",
    "import numpy as np\n",
    "import matplotlib.pyplot as plt\n",
    "from sklearn.feature_extraction.text import TfidfVectorizer #equivalent to bottom two together\n",
    "from sklearn.feature_extraction.text import CountVectorizer #text preprocessing, tokenizing, and filtering stopwords \n",
    "from sklearn.feature_extraction.text import TfidfTransformer #tf-idf\n",
    "from sklearn.pipeline import Pipeline\n",
    "from sklearn.linear_model import SGDClassifier #classifier\n",
    "from sklearn.neural_network import MLPClassifier\n",
    "from sklearn.naive_bayes import MultinomialNB"
   ]
  },
  {
   "cell_type": "code",
   "execution_count": null,
   "metadata": {
    "colab": {},
    "colab_type": "code",
    "id": "tCejWK0rxgvM"
   },
   "outputs": [],
   "source": [
    "train = pd.read_csv('yelp_train.csv')\n",
    "test = pd.read_csv('yelp_test.csv')\n",
    "\n",
    "sample = pd.read_csv('yelp_sample.csv')"
   ]
  },
  {
   "cell_type": "code",
   "execution_count": null,
   "metadata": {},
   "outputs": [],
   "source": [
    "#convert training 'text' column into array of strings\n",
    "text = train['text'].values\n",
    "text"
   ]
  },
  {
   "cell_type": "code",
   "execution_count": null,
   "metadata": {},
   "outputs": [],
   "source": [
    "# model pipeline (countvectorizer, tfidftransformer, sgdclassifier)\n",
    "text_clf = Pipeline([\n",
    "     ('vect', CountVectorizer()),\n",
    "     ('tfidf', TfidfTransformer()),\n",
    "     ('clf', SGDClassifier(loss='hinge', penalty='l2',\n",
    "                           alpha=1e-3, random_state=42,\n",
    "                           max_iter=100, tol=None)),\n",
    " ])\n",
    "clf_fit = text_clf.fit(text, train['is_good_rating'])"
   ]
  },
  {
   "cell_type": "code",
   "execution_count": null,
   "metadata": {},
   "outputs": [],
   "source": [
    "train_pred = clf_fit.predict(text)\n",
    "np.mean(train_pred == train['is_good_rating'])"
   ]
  },
  {
   "cell_type": "code",
   "execution_count": null,
   "metadata": {
    "colab": {
     "base_uri": "https://localhost:8080/",
     "height": 267
    },
    "colab_type": "code",
    "id": "4Brs43zo6vZ0",
    "outputId": "a88f4620-ebab-4b67-fe6b-ea656ae0c739"
   },
   "outputs": [],
   "source": [
    "preds = pd.read_csv('yelp_sample.csv')\n",
    "print(preds.head())\n",
    "preds.is_good_rating = predictions\n",
    "preds.set_index('review_id', inplace=True)\n",
    "print(preds.head())\n",
    "preds.to_csv('preds.csv')\n",
    "# !cp preds.csv /content/gdrive/My\\ Drive/Cal/Data\\ 144\\ Kaggle\\ Challenge"
   ]
  },
  {
   "cell_type": "code",
   "execution_count": null,
   "metadata": {},
   "outputs": [],
   "source": []
  }
 ],
 "metadata": {
  "colab": {
   "collapsed_sections": [],
   "machine_shape": "hm",
   "name": "Kaggle_Challenge_Data144",
   "provenance": []
  },
  "kernelspec": {
   "display_name": "Python 3",
   "language": "python",
   "name": "python3"
  },
  "language_info": {
   "codemirror_mode": {
    "name": "ipython",
    "version": 3
   },
   "file_extension": ".py",
   "mimetype": "text/x-python",
   "name": "python",
   "nbconvert_exporter": "python",
   "pygments_lexer": "ipython3",
   "version": "3.6.3"
  }
 },
 "nbformat": 4,
 "nbformat_minor": 1
}
