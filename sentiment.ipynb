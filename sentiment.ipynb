{
 "cells": [
  {
   "cell_type": "code",
   "execution_count": 2,
   "metadata": {},
   "outputs": [],
   "source": [
    "import pandas as pd\n",
    "import numpy as np\n",
    "import matplotlib.pyplot as plt"
   ]
  },
  {
   "cell_type": "code",
   "execution_count": 30,
   "metadata": {},
   "outputs": [],
   "source": [
    "train = pd.read_csv('yelp_train.csv')\n",
    "test = pd.read_csv('yelp_test.csv')\n",
    "sample = pd.read_csv('yelp_sample.csv')"
   ]
  },
  {
   "cell_type": "code",
   "execution_count": 2,
   "metadata": {},
   "outputs": [],
   "source": [
    "def featurize_no_text(df):\n",
    "    sent = pd.read_csv(\"vaderSentiment/vaderSentiment/vader_lexicon.txt\", sep='\\t', header=None).iloc[:, :2]\n",
    "    sent.columns = [\"token\", \"polarity\"]\n",
    "    sent.drop_duplicates(subset=\"token\", keep='first',inplace=True)\n",
    "    sent.set_index(\"token\", inplace=True)\n",
    "    df['authored_by_elite_user'] = [1 if x in y else 0 for x,y in zip(pd.to_datetime(df.date).dt.strftime('%Y'), df.user_elite)]\n",
    "    df['user_business_avg_star_difference'] = df.user_average_stars-df.business_average_stars\n",
    "    df[\"text\"] = df[\"text\"].str.lower()\n",
    "    sentiment = []\n",
    "    for text in np.arange(len(df)):\n",
    "        sentiment.append(np.sum([sent.loc[i][\"polarity\"] for i in df.iloc[text,7].split() if i in sent.index]))\n",
    "    df[\"sentiment\"] = sentiment\n",
    "    return df[['authored_by_elite_user', 'useful', 'cool', 'funny', 'user_average_stars', 'user_business_avg_star_difference', 'business_average_stars',\"sentiment\"]]\n",
    "\n",
    "train_data = pd.read_csv('yelp_train.csv')\n",
    "no_text_train = featurize_no_text(train_data)\n",
    "no_text_train_y = train_data['is_good_rating']\n",
    "no_text_test = featurize_no_text(pd.read_csv('yelp_test.csv'))"
   ]
  },
  {
   "cell_type": "code",
   "execution_count": 3,
   "metadata": {},
   "outputs": [
    {
     "data": {
      "text/html": [
       "<div>\n",
       "<style scoped>\n",
       "    .dataframe tbody tr th:only-of-type {\n",
       "        vertical-align: middle;\n",
       "    }\n",
       "\n",
       "    .dataframe tbody tr th {\n",
       "        vertical-align: top;\n",
       "    }\n",
       "\n",
       "    .dataframe thead th {\n",
       "        text-align: right;\n",
       "    }\n",
       "</style>\n",
       "<table border=\"1\" class=\"dataframe\">\n",
       "  <thead>\n",
       "    <tr style=\"text-align: right;\">\n",
       "      <th></th>\n",
       "      <th>authored_by_elite_user</th>\n",
       "      <th>useful</th>\n",
       "      <th>cool</th>\n",
       "      <th>funny</th>\n",
       "      <th>user_average_stars</th>\n",
       "      <th>user_business_avg_star_difference</th>\n",
       "      <th>business_average_stars</th>\n",
       "      <th>sentiment</th>\n",
       "    </tr>\n",
       "  </thead>\n",
       "  <tbody>\n",
       "    <tr>\n",
       "      <th>0</th>\n",
       "      <td>0</td>\n",
       "      <td>0</td>\n",
       "      <td>0</td>\n",
       "      <td>0</td>\n",
       "      <td>2.00</td>\n",
       "      <td>-2.00</td>\n",
       "      <td>4.0</td>\n",
       "      <td>1.5</td>\n",
       "    </tr>\n",
       "    <tr>\n",
       "      <th>1</th>\n",
       "      <td>0</td>\n",
       "      <td>0</td>\n",
       "      <td>0</td>\n",
       "      <td>0</td>\n",
       "      <td>4.43</td>\n",
       "      <td>0.93</td>\n",
       "      <td>3.5</td>\n",
       "      <td>3.3</td>\n",
       "    </tr>\n",
       "    <tr>\n",
       "      <th>2</th>\n",
       "      <td>0</td>\n",
       "      <td>0</td>\n",
       "      <td>0</td>\n",
       "      <td>0</td>\n",
       "      <td>4.09</td>\n",
       "      <td>0.09</td>\n",
       "      <td>4.0</td>\n",
       "      <td>3.1</td>\n",
       "    </tr>\n",
       "    <tr>\n",
       "      <th>3</th>\n",
       "      <td>0</td>\n",
       "      <td>0</td>\n",
       "      <td>1</td>\n",
       "      <td>0</td>\n",
       "      <td>3.55</td>\n",
       "      <td>0.55</td>\n",
       "      <td>3.0</td>\n",
       "      <td>15.2</td>\n",
       "    </tr>\n",
       "    <tr>\n",
       "      <th>4</th>\n",
       "      <td>0</td>\n",
       "      <td>1</td>\n",
       "      <td>1</td>\n",
       "      <td>1</td>\n",
       "      <td>3.75</td>\n",
       "      <td>0.25</td>\n",
       "      <td>3.5</td>\n",
       "      <td>-2.8</td>\n",
       "    </tr>\n",
       "  </tbody>\n",
       "</table>\n",
       "</div>"
      ],
      "text/plain": [
       "   authored_by_elite_user  useful  cool  funny  user_average_stars  \\\n",
       "0                       0       0     0      0                2.00   \n",
       "1                       0       0     0      0                4.43   \n",
       "2                       0       0     0      0                4.09   \n",
       "3                       0       0     1      0                3.55   \n",
       "4                       0       1     1      1                3.75   \n",
       "\n",
       "   user_business_avg_star_difference  business_average_stars  sentiment  \n",
       "0                              -2.00                     4.0        1.5  \n",
       "1                               0.93                     3.5        3.3  \n",
       "2                               0.09                     4.0        3.1  \n",
       "3                               0.55                     3.0       15.2  \n",
       "4                               0.25                     3.5       -2.8  "
      ]
     },
     "execution_count": 3,
     "metadata": {},
     "output_type": "execute_result"
    }
   ],
   "source": [
    "no_text_train.head()"
   ]
  },
  {
   "cell_type": "code",
   "execution_count": 33,
   "metadata": {},
   "outputs": [],
   "source": [
    "def featurize(data):\n",
    "    sent = pd.read_csv(\"vaderSentiment/vaderSentiment/vader_lexicon.txt\", sep='\\t', header=None).iloc[:, :2]\n",
    "    sent.columns = [\"token\", \"polarity\"]\n",
    "    sent.drop_duplicates(subset=\"token\", keep='first',inplace=True)\n",
    "    sent.set_index(\"token\", inplace=True)\n",
    "    sentiment = []\n",
    "    for text in np.arange(len(data)):\n",
    "        sentiment.append(np.sum([sent.loc[i][\"polarity\"] for i in data.iloc[text,7].split() if i in sent.index]))\n",
    "    data[\"text\"] = data[\"text\"].str.lower()\n",
    "    a=np.zeros(len(data))\n",
    "    b=np.zeros(len(data))\n",
    "    c=np.zeros(len(data))\n",
    "    d=np.zeros(len(data))\n",
    "    e=np.zeros(len(data))\n",
    "    for text in np.arange(len(data)):\n",
    "        a[text]=data.iloc[text,7].count(\"!\")\n",
    "        b[text]=data.iloc[text,7].count(\"delicious\")\n",
    "        c[text]=data.iloc[text,7].count(\"useful\")\n",
    "        d[text]=data.iloc[text,7].count(\"great\")\n",
    "        e[text]=data.iloc[text,7].count(\"bad\")\n",
    "    df = pd.DataFrame(columns = ['sentiment',\"!\",\"delicious\",\"useful\",\"great\",\"bad\"]) \n",
    "    df.loc[:, \"sentiment\"] = sentiment\n",
    "    df.loc[:, \"!\"] = a \n",
    "    df.loc[:, \"delicious\"] = b\n",
    "    df.loc[:, \"useful\"] = c \n",
    "    df.loc[:, \"great\"] = d\n",
    "    df.loc[:, \"bad\"] = e\n",
    "    df.loc[:,'user_average_stars'] = data[['user_average_stars']]\n",
    "    return df"
   ]
  },
  {
   "cell_type": "code",
   "execution_count": 34,
   "metadata": {},
   "outputs": [],
   "source": [
    "train = pd.read_csv('yelp_train.csv')\n",
    "X = featurize(train)\n",
    "y = train['is_good_rating']\n",
    "test = featurize(pd.read_csv('yelp_test.csv'))"
   ]
  },
  {
   "cell_type": "code",
   "execution_count": 23,
   "metadata": {
    "scrolled": true
   },
   "outputs": [
    {
     "data": {
      "text/html": [
       "<div>\n",
       "<style scoped>\n",
       "    .dataframe tbody tr th:only-of-type {\n",
       "        vertical-align: middle;\n",
       "    }\n",
       "\n",
       "    .dataframe tbody tr th {\n",
       "        vertical-align: top;\n",
       "    }\n",
       "\n",
       "    .dataframe thead th {\n",
       "        text-align: right;\n",
       "    }\n",
       "</style>\n",
       "<table border=\"1\" class=\"dataframe\">\n",
       "  <thead>\n",
       "    <tr style=\"text-align: right;\">\n",
       "      <th></th>\n",
       "      <th>sentiment</th>\n",
       "    </tr>\n",
       "  </thead>\n",
       "  <tbody>\n",
       "    <tr>\n",
       "      <th>0</th>\n",
       "      <td>1.5</td>\n",
       "    </tr>\n",
       "    <tr>\n",
       "      <th>1</th>\n",
       "      <td>3.3</td>\n",
       "    </tr>\n",
       "    <tr>\n",
       "      <th>2</th>\n",
       "      <td>3.1</td>\n",
       "    </tr>\n",
       "    <tr>\n",
       "      <th>3</th>\n",
       "      <td>15.2</td>\n",
       "    </tr>\n",
       "    <tr>\n",
       "      <th>4</th>\n",
       "      <td>-2.8</td>\n",
       "    </tr>\n",
       "  </tbody>\n",
       "</table>\n",
       "</div>"
      ],
      "text/plain": [
       "   sentiment\n",
       "0        1.5\n",
       "1        3.3\n",
       "2        3.1\n",
       "3       15.2\n",
       "4       -2.8"
      ]
     },
     "execution_count": 23,
     "metadata": {},
     "output_type": "execute_result"
    }
   ],
   "source": [
    "X.head()"
   ]
  },
  {
   "cell_type": "code",
   "execution_count": 37,
   "metadata": {},
   "outputs": [
    {
     "name": "stdout",
     "output_type": "stream",
     "text": [
      "test:  0.7672333333333333\n",
      "train:  0.7461833333333333\n"
     ]
    }
   ],
   "source": [
    "from sklearn.neural_network import MLPClassifier\n",
    "clf = MLPClassifier(activation='logistic', solver='adam', learning_rate='adaptive', alpha=1e-4, hidden_layer_sizes=(100, 100, 100), random_state=42) \n",
    "X = X[[\"sentiment\"]]\n",
    "y = train['is_good_rating']\n",
    "clf.fit(X, y)\n",
    "predictions = clf.predict(test[[\"sentiment\"]])\n",
    "test_accuracy = np.mean(predictions==sample['is_good_rating'])\n",
    "predictions_train = clf.predict(X)\n",
    "train_accuracy = np.mean(predictions_train==y)\n",
    "print(\"test: \", test_accuracy)\n",
    "print(\"train: \", train_accuracy)"
   ]
  },
  {
   "cell_type": "code",
   "execution_count": null,
   "metadata": {},
   "outputs": [],
   "source": [
    "predictions"
   ]
  },
  {
   "cell_type": "code",
   "execution_count": 38,
   "metadata": {},
   "outputs": [
    {
     "name": "stdout",
     "output_type": "stream",
     "text": [
      "test:  0.7672333333333333\n",
      "train:  0.7461833333333333\n"
     ]
    }
   ],
   "source": [
    "from sklearn.neural_network import MLPClassifier\n",
    "clf = MLPClassifier(activation='logistic', solver='adam', learning_rate='adaptive', alpha=1e-4, hidden_layer_sizes=(150, 150, 100), random_state=42) \n",
    "X = df\n",
    "y = train['is_good_rating']\n",
    "clf.fit(X, y)\n",
    "predictions = clf.predict(test)\n",
    "accuracy = np.mean(predictions==sample['is_good_rating'])\n",
    "predictions_train = clf.predict(X)\n",
    "accuracy_train = np.mean(predictions_train==y)\n",
    "print(\"test: \", test_accuracy)\n",
    "print(\"train: \", train_accuracy)"
   ]
  },
  {
   "cell_type": "code",
   "execution_count": null,
   "metadata": {},
   "outputs": [],
   "source": []
  }
 ],
 "metadata": {
  "kernelspec": {
   "display_name": "Python 3",
   "language": "python",
   "name": "python3"
  },
  "language_info": {
   "codemirror_mode": {
    "name": "ipython",
    "version": 3
   },
   "file_extension": ".py",
   "mimetype": "text/x-python",
   "name": "python",
   "nbconvert_exporter": "python",
   "pygments_lexer": "ipython3",
   "version": "3.7.2"
  }
 },
 "nbformat": 4,
 "nbformat_minor": 2
}
